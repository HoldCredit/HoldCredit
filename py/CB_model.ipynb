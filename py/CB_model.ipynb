{
 "cells": [
  {
   "cell_type": "code",
   "execution_count": 1,
   "id": "69821733",
   "metadata": {},
   "outputs": [],
   "source": [
    "import pandas as pd\n",
    "from sklearn.model_selection import train_test_split\n",
    "from sklearn.preprocessing import StandardScaler\n",
    "import tensorflow as tf\n",
    "import numpy as np\n",
    "import pickle"
   ]
  },
  {
   "cell_type": "code",
   "execution_count": 2,
   "id": "c758d9c7",
   "metadata": {},
   "outputs": [],
   "source": [
    "# 데이터 로드\n",
    "train_data = pd.read_excel('train_data.xlsx')\n",
    "train_data = train_data.drop(['상품','RRC_CD','HAC_CD','지역코드','AD_NO','주거지','주소지','ADD_YN','SP등급','결과값(연체회차)'], axis=1)"
   ]
  },
  {
   "cell_type": "code",
   "execution_count": 3,
   "id": "39e243fb",
   "metadata": {},
   "outputs": [],
   "source": [
    "# 학습에 사용할 특성과 레이블 분리\n",
    "X = train_data.select_dtypes(include=[np.number])\n",
    "y = train_data['CB등급']"
   ]
  },
  {
   "cell_type": "code",
   "execution_count": 4,
   "id": "df86b77b",
   "metadata": {},
   "outputs": [],
   "source": [
    "# 데이터 전처리\n",
    "scaler = StandardScaler()\n",
    "X = scaler.fit_transform(X)"
   ]
  },
  {
   "cell_type": "code",
   "execution_count": 5,
   "id": "feb18a07",
   "metadata": {},
   "outputs": [],
   "source": [
    "# 학습 데이터와 검증 데이터 분리\n",
    "X_train, X_val, y_train, y_val = train_test_split(X, y, test_size=0.2, random_state=42)"
   ]
  },
  {
   "cell_type": "code",
   "execution_count": 6,
   "id": "79d0a94c",
   "metadata": {},
   "outputs": [],
   "source": [
    "# 전처리 저장\n",
    "with open('train_data_scaler.pkl', 'wb') as f:\n",
    "    pickle.dump(scaler, f)"
   ]
  },
  {
   "cell_type": "code",
   "execution_count": 7,
   "id": "0e06fb49",
   "metadata": {},
   "outputs": [],
   "source": [
    "# 모델 생성\n",
    "model = tf.keras.models.Sequential([\n",
    "    tf.keras.layers.Dense(128, activation='relu', input_shape=(X_train.shape[1],)),\n",
    "    tf.keras.layers.Dropout(0.2),\n",
    "    tf.keras.layers.Dense(64, activation='relu'),\n",
    "    tf.keras.layers.Dropout(0.2),\n",
    "    tf.keras.layers.Dense(1)\n",
    "])"
   ]
  },
  {
   "cell_type": "code",
   "execution_count": 8,
   "id": "86288c86",
   "metadata": {},
   "outputs": [],
   "source": [
    "# 모델 컴파일\n",
    "model.compile(optimizer='adam', loss='mean_squared_error')"
   ]
  },
  {
   "cell_type": "code",
   "execution_count": 9,
   "id": "b29fdfb7",
   "metadata": {},
   "outputs": [
    {
     "name": "stdout",
     "output_type": "stream",
     "text": [
      "Epoch 1/10\n",
      "3000/3000 [==============================] - 3s 895us/step - loss: 0.6561 - val_loss: 0.0648\n",
      "Epoch 2/10\n",
      "3000/3000 [==============================] - 3s 852us/step - loss: 0.1996 - val_loss: 0.0324\n",
      "Epoch 3/10\n",
      "3000/3000 [==============================] - 3s 912us/step - loss: 0.1354 - val_loss: 0.0430\n",
      "Epoch 4/10\n",
      "3000/3000 [==============================] - 3s 884us/step - loss: 0.1020 - val_loss: 0.0179\n",
      "Epoch 5/10\n",
      "3000/3000 [==============================] - 3s 881us/step - loss: 0.0877 - val_loss: 0.0265\n",
      "Epoch 6/10\n",
      "3000/3000 [==============================] - 3s 869us/step - loss: 0.0811 - val_loss: 0.0222\n",
      "Epoch 7/10\n",
      "3000/3000 [==============================] - 3s 850us/step - loss: 0.0753 - val_loss: 0.0197\n",
      "Epoch 8/10\n",
      "3000/3000 [==============================] - 3s 874us/step - loss: 0.0730 - val_loss: 0.0319\n",
      "Epoch 9/10\n",
      "3000/3000 [==============================] - 3s 860us/step - loss: 0.0687 - val_loss: 0.0303\n",
      "Epoch 10/10\n",
      "3000/3000 [==============================] - 2s 825us/step - loss: 0.0657 - val_loss: 0.0395\n"
     ]
    },
    {
     "data": {
      "text/plain": [
       "<keras.callbacks.History at 0x1f648c8af10>"
      ]
     },
     "execution_count": 9,
     "metadata": {},
     "output_type": "execute_result"
    }
   ],
   "source": [
    "# 모델 학습\n",
    "model.fit(X_train, y_train, epochs=10, validation_data=(X_val, y_val))"
   ]
  },
  {
   "cell_type": "code",
   "execution_count": 17,
   "id": "d0258d29",
   "metadata": {},
   "outputs": [],
   "source": [
    "# 모델 저장\n",
    "model.save('CB_model.h5')"
   ]
  },
  {
   "cell_type": "code",
   "execution_count": null,
   "id": "f9cc52dd",
   "metadata": {},
   "outputs": [],
   "source": []
  },
  {
   "cell_type": "code",
   "execution_count": 122,
   "id": "c918a21d",
   "metadata": {},
   "outputs": [],
   "source": [
    "# 특성 중요도 계산\n",
    "importance = np.abs(model.layers[0].get_weights()[0]).sum(axis=1)\n",
    "feature_importance = importance / np.sum(importance) * 100"
   ]
  },
  {
   "cell_type": "code",
   "execution_count": 123,
   "id": "9833919e",
   "metadata": {},
   "outputs": [],
   "source": [
    "# 각 특성과 그에 대한 영향력(%) 데이터프레임 생성\n",
    "feature_names = train_data.columns[:-1]  # 마지막 열인 CB등급 제외\n",
    "num_features = len(feature_names)"
   ]
  },
  {
   "cell_type": "code",
   "execution_count": 124,
   "id": "ba79ec80",
   "metadata": {},
   "outputs": [],
   "source": [
    "# feature_importance의 길이가 num_features와 일치하는지 확인\n",
    "if len(feature_importance) != num_features:\n",
    "    feature_importance = feature_importance[:num_features]"
   ]
  },
  {
   "cell_type": "code",
   "execution_count": 125,
   "id": "5663be80",
   "metadata": {},
   "outputs": [],
   "source": [
    "# 특성 중요도의 총합이 100이 되도록 조정\n",
    "total_importance = np.sum(feature_importance)\n",
    "feature_importance = (feature_importance / total_importance) * 100"
   ]
  },
  {
   "cell_type": "code",
   "execution_count": 129,
   "id": "807b590c",
   "metadata": {},
   "outputs": [],
   "source": [
    "# 데이터프레임을 엑셀 파일로 저장\n",
    "impact_df = pd.DataFrame({'Feature': feature_names, 'Impact': feature_importance})\n",
    "impact_df = impact_df.sort_values(by='Impact', ascending=False)\n",
    "impact_df.to_excel('feature_impact.xlsx', index=False)"
   ]
  },
  {
   "cell_type": "code",
   "execution_count": null,
   "id": "e86740ce",
   "metadata": {},
   "outputs": [],
   "source": []
  }
 ],
 "metadata": {
  "kernelspec": {
   "display_name": "Python 3 (ipykernel)",
   "language": "python",
   "name": "python3"
  },
  "language_info": {
   "codemirror_mode": {
    "name": "ipython",
    "version": 3
   },
   "file_extension": ".py",
   "mimetype": "text/x-python",
   "name": "python",
   "nbconvert_exporter": "python",
   "pygments_lexer": "ipython3",
   "version": "3.9.13"
  }
 },
 "nbformat": 4,
 "nbformat_minor": 5
}
