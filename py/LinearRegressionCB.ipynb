{
 "cells": [
  {
   "cell_type": "code",
   "execution_count": 1,
   "id": "d1cf2401",
   "metadata": {},
   "outputs": [],
   "source": [
    "import pandas as pd\n",
    "from sklearn.model_selection import train_test_split\n",
    "from sklearn.preprocessing import StandardScaler\n",
    "from sklearn.linear_model import LinearRegression\n",
    "from sklearn.metrics import mean_squared_error\n",
    "import numpy as np"
   ]
  },
  {
   "cell_type": "code",
   "execution_count": 2,
   "id": "43b2bee9",
   "metadata": {},
   "outputs": [],
   "source": [
    "# 데이터 로드\n",
    "train_data = pd.read_excel('train_data.xlsx')\n",
    "train_data = train_data.drop(['SP','결과값(연체회차)'], axis=1)\n",
    "train_data = pd.get_dummies(train_data, columns=['AD_NO', 'LIV_ADD', 'RES_ADD', 'ADD_YN'])"
   ]
  },
  {
   "cell_type": "code",
   "execution_count": 3,
   "id": "6742830c",
   "metadata": {},
   "outputs": [],
   "source": [
    "# 입력 (X) / 출력 (Y) 변수 분리\n",
    "X = train_data.drop('CB', axis=1)\n",
    "y = train_data['CB']"
   ]
  },
  {
   "cell_type": "code",
   "execution_count": 4,
   "id": "08876718",
   "metadata": {},
   "outputs": [],
   "source": [
    "# 학습 데이터와 검증 데이터 분리\n",
    "X_train, X_test, y_train, y_test = train_test_split(X, y, test_size=0.2, random_state=42)"
   ]
  },
  {
   "cell_type": "code",
   "execution_count": 5,
   "id": "80561955",
   "metadata": {},
   "outputs": [],
   "source": [
    "# 특성 스케일링\n",
    "scaler = StandardScaler()\n",
    "X_train = scaler.fit_transform(X_train)\n",
    "X_test = scaler.transform(X_test)"
   ]
  },
  {
   "cell_type": "markdown",
   "id": "489672b8",
   "metadata": {},
   "source": [
    "### Linear Regression"
   ]
  },
  {
   "cell_type": "code",
   "execution_count": 6,
   "id": "b364d851",
   "metadata": {},
   "outputs": [
    {
     "data": {
      "text/plain": [
       "LinearRegression()"
      ]
     },
     "execution_count": 6,
     "metadata": {},
     "output_type": "execute_result"
    }
   ],
   "source": [
    "# 모델 학습\n",
    "lr = LinearRegression()\n",
    "lr.fit(X_train, y_train)"
   ]
  },
  {
   "cell_type": "code",
   "execution_count": 7,
   "id": "1c6eb064",
   "metadata": {},
   "outputs": [],
   "source": [
    "# 예측\n",
    "train_pred = lr.predict(X_train)\n",
    "test_pred = lr.predict(X_test)"
   ]
  },
  {
   "cell_type": "code",
   "execution_count": 8,
   "id": "41f99648",
   "metadata": {},
   "outputs": [
    {
     "name": "stdout",
     "output_type": "stream",
     "text": [
      "Train MSE: 3.1564\n",
      "Test MSE: 3.1276\n"
     ]
    }
   ],
   "source": [
    "# MSE 계산\n",
    "train_mse = mean_squared_error(y_train, train_pred)\n",
    "test_mse = mean_squared_error(y_test, test_pred)\n",
    "print(f'Train MSE: {train_mse:.4f}')\n",
    "print(f'Test MSE: {test_mse:.4f}')"
   ]
  },
  {
   "cell_type": "code",
   "execution_count": 9,
   "id": "65711b03",
   "metadata": {},
   "outputs": [],
   "source": [
    "# 피처 중요도 확인\n",
    "coefficients = lr.coef_\n",
    "features = X.columns.tolist()"
   ]
  },
  {
   "cell_type": "code",
   "execution_count": 10,
   "id": "4e2d7f77",
   "metadata": {},
   "outputs": [],
   "source": [
    "# 피처 중요도를 데이터프레임으로 변환\n",
    "feature_importance_df = pd.DataFrame({'Feature': features, 'Importance': coefficients})"
   ]
  },
  {
   "cell_type": "code",
   "execution_count": 11,
   "id": "815df787",
   "metadata": {},
   "outputs": [],
   "source": [
    "# 중요도를 백분율로 변환\n",
    "total_importance = sum(abs(coefficients))\n",
    "lr_feature_importance_percentages = (abs(coefficients) / total_importance) * 100\n",
    "lr_feature_importance_df = pd.DataFrame({'Feature': features, 'Importance': lr_feature_importance_percentages})\n",
    "lr_feature_importance_df = lr_feature_importance_df.sort_values(by='Importance', ascending=False)\n",
    "lr_feature_importance_df.to_excel('CB_LinearRegression_feature_importance.xlsx', index=False)"
   ]
  },
  {
   "cell_type": "markdown",
   "id": "d3136b01",
   "metadata": {},
   "source": [
    "### Test_data.xlsx CB예측"
   ]
  },
  {
   "cell_type": "code",
   "execution_count": 12,
   "id": "c6b02601",
   "metadata": {},
   "outputs": [],
   "source": [
    "# test.xlsx 파일 로드\n",
    "test_data = pd.read_excel('test_data.xlsx')"
   ]
  },
  {
   "cell_type": "code",
   "execution_count": 13,
   "id": "559b7542",
   "metadata": {},
   "outputs": [],
   "source": [
    "# test_data에 동일한 전처리 수행\n",
    "test_data = test_data.drop(['SP','결과값(연체회차)'], axis=1)\n",
    "test_data = pd.get_dummies(test_data, columns=['AD_NO', 'LIV_ADD', 'RES_ADD', 'ADD_YN'])"
   ]
  },
  {
   "cell_type": "code",
   "execution_count": 14,
   "id": "ad408729",
   "metadata": {},
   "outputs": [],
   "source": [
    "# 훈련 데이터와 동일한 특성을 가지도록 조정\n",
    "missing_cols = set(X.columns) - set(test_data.columns)\n",
    "for c in missing_cols:\n",
    "    test_data[c] = 0\n",
    "test_data = test_data[X.columns]"
   ]
  },
  {
   "cell_type": "code",
   "execution_count": 15,
   "id": "99f88862",
   "metadata": {},
   "outputs": [],
   "source": [
    "# 스케일링\n",
    "test_data_scaled = scaler.transform(test_data)"
   ]
  },
  {
   "cell_type": "code",
   "execution_count": 16,
   "id": "8fab2a6e",
   "metadata": {},
   "outputs": [],
   "source": [
    "# 훈련된 모델을 사용하여 예측 수행\n",
    "test_pred = lr.predict(test_data_scaled)"
   ]
  },
  {
   "cell_type": "code",
   "execution_count": 19,
   "id": "6754c555",
   "metadata": {},
   "outputs": [],
   "source": [
    "# 예측 결과를 데이터프레임으로 변환\n",
    "test_pred_df = pd.DataFrame(test_pred.astype(int), columns=['CB 예측'])"
   ]
  },
  {
   "cell_type": "code",
   "execution_count": 20,
   "id": "3d99755b",
   "metadata": {},
   "outputs": [],
   "source": [
    "# 결과를 엑셀 파일로 저장\n",
    "test_pred_df.to_excel('test_LinearRegression_CB.xlsx', index=False)"
   ]
  },
  {
   "cell_type": "code",
   "execution_count": null,
   "id": "6d77646e",
   "metadata": {},
   "outputs": [],
   "source": []
  }
 ],
 "metadata": {
  "kernelspec": {
   "display_name": "Python 3 (ipykernel)",
   "language": "python",
   "name": "python3"
  },
  "language_info": {
   "codemirror_mode": {
    "name": "ipython",
    "version": 3
   },
   "file_extension": ".py",
   "mimetype": "text/x-python",
   "name": "python",
   "nbconvert_exporter": "python",
   "pygments_lexer": "ipython3",
   "version": "3.7.16"
  }
 },
 "nbformat": 4,
 "nbformat_minor": 5
}
