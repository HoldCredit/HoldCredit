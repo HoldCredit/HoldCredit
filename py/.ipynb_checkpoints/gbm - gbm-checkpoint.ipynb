{
 "cells": [
  {
   "cell_type": "code",
   "execution_count": 16,
   "id": "4a0d9239",
   "metadata": {},
   "outputs": [],
   "source": [
    "import pandas as pd\n",
    "from sklearn.model_selection import train_test_split\n",
    "from sklearn.preprocessing import StandardScaler\n",
    "from sklearn.feature_selection import SelectFromModel\n",
    "import pickle"
   ]
  },
  {
   "cell_type": "code",
   "execution_count": 2,
   "id": "c80ffc6f",
   "metadata": {},
   "outputs": [],
   "source": [
    "# 데이터 로드\n",
    "train_data = pd.read_excel('train_data.xlsx')\n",
    "train_data = train_data.drop(['SP','결과값(연체회차)'], axis=1)\n",
    "train_data = pd.get_dummies(train_data, columns=['AD_NO', 'LIV_ADD', 'RES_ADD', 'ADD_YN'])"
   ]
  },
  {
   "cell_type": "code",
   "execution_count": 3,
   "id": "085d5860",
   "metadata": {},
   "outputs": [],
   "source": [
    "# 입력 (X) / 출력 (Y) 변수 분리\n",
    "X = train_data.drop('CB', axis=1)\n",
    "y = train_data['CB']"
   ]
  },
  {
   "cell_type": "code",
   "execution_count": 4,
   "id": "2e5e33d1",
   "metadata": {},
   "outputs": [],
   "source": [
    "# 학습 데이터와 검증 데이터 분리\n",
    "X_train, X_test, y_train, y_test = train_test_split(X, y, test_size=0.2, random_state=42)"
   ]
  },
  {
   "cell_type": "code",
   "execution_count": 5,
   "id": "420a1656",
   "metadata": {},
   "outputs": [],
   "source": [
    "# 특성 스케일링\n",
    "scaler = StandardScaler()\n",
    "X_train = scaler.fit_transform(X_train)\n",
    "X_test = scaler.transform(X_test)"
   ]
  },
  {
   "cell_type": "code",
   "execution_count": 6,
   "id": "a8828a8d",
   "metadata": {},
   "outputs": [],
   "source": [
    "# 전처리된 데이터를 pickle 형태로 저장\n",
    "train_data.to_pickle(\"preprocessed_train_data.pkl\")"
   ]
  },
  {
   "cell_type": "code",
   "execution_count": 7,
   "id": "4d97f0a8",
   "metadata": {},
   "outputs": [],
   "source": [
    "# X_train, X_test, y_train, y_test 데이터를 각각 pickle 형태로 저장\n",
    "pd.to_pickle(X_train, \"X_train.pkl\")\n",
    "pd.to_pickle(X_test, \"X_test.pkl\")\n",
    "pd.to_pickle(y_train, \"y_train.pkl\")\n",
    "pd.to_pickle(y_test, \"y_test.pkl\")"
   ]
  },
  {
   "cell_type": "markdown",
   "id": "5101388f",
   "metadata": {},
   "source": [
    "### GBM을 이용한 주요 피처 추출"
   ]
  },
  {
   "cell_type": "code",
   "execution_count": 8,
   "id": "cfff7393",
   "metadata": {},
   "outputs": [],
   "source": [
    "import lightgbm as lgb"
   ]
  },
  {
   "cell_type": "code",
   "execution_count": 9,
   "id": "8ad8473f",
   "metadata": {},
   "outputs": [
    {
     "data": {
      "text/plain": [
       "LGBMClassifier(random_state=42)"
      ]
     },
     "execution_count": 9,
     "metadata": {},
     "output_type": "execute_result"
    }
   ],
   "source": [
    "# LightGBM 모델 학습\n",
    "gbm = lgb.LGBMClassifier(n_estimators=100, random_state=42)\n",
    "gbm.fit(X_train, y_train)"
   ]
  },
  {
   "cell_type": "code",
   "execution_count": 10,
   "id": "7fee14ba",
   "metadata": {},
   "outputs": [],
   "source": [
    "# 피처 중요도 확인\n",
    "feature_importances = gbm.feature_importances_"
   ]
  },
  {
   "cell_type": "code",
   "execution_count": 12,
   "id": "d1e67e29",
   "metadata": {},
   "outputs": [],
   "source": [
    "# 피처 중요도를 데이터프레임으로 변환\n",
    "feature_importance_df = pd.DataFrame({'Feature': list(X.columns), 'Importance': feature_importances})"
   ]
  },
  {
   "cell_type": "code",
   "execution_count": 13,
   "id": "d4e6ebbe",
   "metadata": {},
   "outputs": [],
   "source": [
    "# 중요도 순으로 정렬\n",
    "feature_importance_df = feature_importance_df.sort_values(by='Importance', ascending=False)"
   ]
  },
  {
   "cell_type": "code",
   "execution_count": 17,
   "id": "b83db636",
   "metadata": {},
   "outputs": [],
   "source": [
    "# 중요도가 낮은 피처를 제거\n",
    "sfm = SelectFromModel(gbm, threshold=0.01, prefit=True)  # threshold는 변경할 수 있습니다.\n",
    "X_train_important = sfm.transform(X_train)\n",
    "X_test_important = sfm.transform(X_test)"
   ]
  },
  {
   "cell_type": "code",
   "execution_count": 18,
   "id": "9e710dd0",
   "metadata": {},
   "outputs": [],
   "source": [
    "# 학습할 feature의 이름만 다시 가져오기\n",
    "feature_idx = sfm.get_support()\n",
    "feature_name = X.columns[feature_idx]"
   ]
  },
  {
   "cell_type": "markdown",
   "id": "9e3113fa",
   "metadata": {},
   "source": [
    "### 로지스틱 회귀 딥러닝 모델링"
   ]
  },
  {
   "cell_type": "code",
   "execution_count": null,
   "id": "54917b78",
   "metadata": {},
   "outputs": [],
   "source": [
    "# TensorFlow를 사용해 로지스틱 회귀 딥러닝 모델 구현\n",
    "strategy = tf.distribute.MirroredStrategy()  # GPU를 활용하기 위한 전략 설정"
   ]
  },
  {
   "cell_type": "code",
   "execution_count": null,
   "id": "7d8cc5b4",
   "metadata": {},
   "outputs": [],
   "source": [
    "with strategy.scope():\n",
    "    model = tf.keras.models.Sequential([\n",
    "        tf.keras.layers.Dense(128, activation='relu', input_dim=X_train_important.shape[1]),\n",
    "        tf.keras.layers.Dense(64, activation='relu'),\n",
    "        tf.keras.layers.Dense(10, activation='softmax')  # 결과값이 1~10이므로 뉴런의 개수는 10\n",
    "    ])\n",
    "\n",
    "    model.compile(loss='sparse_categorical_crossentropy',  # sparse_categorical_crossentropy를 사용하여 label을 원-핫 인코딩할 필요 없음\n",
    "                  optimizer='adam', \n",
    "                  metrics=['accuracy'])"
   ]
  },
  {
   "cell_type": "code",
   "execution_count": null,
   "id": "855aeb95",
   "metadata": {},
   "outputs": [],
   "source": [
    "# 모델 학습\n",
    "model.fit(X_train_important, y_train, epochs=1000, batch_size=512, validation_data=(X_test_important, y_test))"
   ]
  },
  {
   "cell_type": "markdown",
   "id": "ba7fabd6",
   "metadata": {},
   "source": [
    "### 로지스틱 회귀 머신러닝 모델링"
   ]
  },
  {
   "cell_type": "code",
   "execution_count": 20,
   "id": "3073dd53",
   "metadata": {},
   "outputs": [],
   "source": [
    "from sklearn.linear_model import LogisticRegression\n",
    "from sklearn.metrics import accuracy_score"
   ]
  },
  {
   "cell_type": "code",
   "execution_count": 21,
   "id": "6c9dafe6",
   "metadata": {},
   "outputs": [
    {
     "name": "stderr",
     "output_type": "stream",
     "text": [
      "C:\\prod\\Anaconda3\\lib\\site-packages\\sklearn\\linear_model\\_logistic.py:814: ConvergenceWarning: lbfgs failed to converge (status=1):\n",
      "STOP: TOTAL NO. of ITERATIONS REACHED LIMIT.\n",
      "\n",
      "Increase the number of iterations (max_iter) or scale the data as shown in:\n",
      "    https://scikit-learn.org/stable/modules/preprocessing.html\n",
      "Please also refer to the documentation for alternative solver options:\n",
      "    https://scikit-learn.org/stable/modules/linear_model.html#logistic-regression\n",
      "  n_iter_i = _check_optimize_result(\n"
     ]
    },
    {
     "data": {
      "text/plain": [
       "LogisticRegression(max_iter=1000, multi_class='multinomial', random_state=42)"
      ]
     },
     "execution_count": 21,
     "metadata": {},
     "output_type": "execute_result"
    }
   ],
   "source": [
    "# 로지스틱 회귀 모델 학습\n",
    "log_reg = LogisticRegression(solver='lbfgs', multi_class='multinomial', max_iter=1000, random_state=42)\n",
    "log_reg.fit(X_train_important, y_train)"
   ]
  },
  {
   "cell_type": "code",
   "execution_count": 22,
   "id": "6bc0189b",
   "metadata": {},
   "outputs": [],
   "source": [
    "# 훈련 데이터에서의 예측\n",
    "train_pred = log_reg.predict(X_train_important)"
   ]
  },
  {
   "cell_type": "code",
   "execution_count": 23,
   "id": "7cbff0d2",
   "metadata": {},
   "outputs": [],
   "source": [
    "# 테스트 데이터에서의 예측\n",
    "test_pred = log_reg.predict(X_test_important)"
   ]
  },
  {
   "cell_type": "code",
   "execution_count": 24,
   "id": "2a479dea",
   "metadata": {},
   "outputs": [],
   "source": [
    "# 정확도 계산\n",
    "train_accuracy = accuracy_score(y_train, train_pred)\n",
    "test_accuracy = accuracy_score(y_test, test_pred)"
   ]
  },
  {
   "cell_type": "code",
   "execution_count": 25,
   "id": "44ab9c60",
   "metadata": {},
   "outputs": [
    {
     "data": {
      "text/plain": [
       "0.2870190541178941"
      ]
     },
     "execution_count": 25,
     "metadata": {},
     "output_type": "execute_result"
    }
   ],
   "source": [
    "train_accuracy"
   ]
  },
  {
   "cell_type": "code",
   "execution_count": 26,
   "id": "2e6838e9",
   "metadata": {},
   "outputs": [
    {
     "data": {
      "text/plain": [
       "0.2951205173427396"
      ]
     },
     "execution_count": 26,
     "metadata": {},
     "output_type": "execute_result"
    }
   ],
   "source": [
    "test_accuracy"
   ]
  },
  {
   "cell_type": "code",
   "execution_count": null,
   "id": "f031b67e",
   "metadata": {},
   "outputs": [],
   "source": []
  }
 ],
 "metadata": {
  "kernelspec": {
   "display_name": "Python 3 (ipykernel)",
   "language": "python",
   "name": "python3"
  },
  "language_info": {
   "codemirror_mode": {
    "name": "ipython",
    "version": 3
   },
   "file_extension": ".py",
   "mimetype": "text/x-python",
   "name": "python",
   "nbconvert_exporter": "python",
   "pygments_lexer": "ipython3",
   "version": "3.9.13"
  }
 },
 "nbformat": 4,
 "nbformat_minor": 5
}
