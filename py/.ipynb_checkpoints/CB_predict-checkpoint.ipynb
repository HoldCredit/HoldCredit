{
 "cells": [
  {
   "cell_type": "code",
   "execution_count": 1,
   "id": "5ee1a02d",
   "metadata": {},
   "outputs": [],
   "source": [
    "from tensorflow.keras.models import load_model\n",
    "import pandas as pd\n",
    "from sklearn.preprocessing import StandardScaler\n",
    "import pickle\n",
    "import numpy as np"
   ]
  },
  {
   "cell_type": "code",
   "execution_count": 2,
   "id": "af7d4dd4",
   "metadata": {},
   "outputs": [],
   "source": [
    "# 학습 모델 로드\n",
    "model = load_model('cb_model.h5')"
   ]
  },
  {
   "cell_type": "code",
   "execution_count": 3,
   "id": "4200ff9f",
   "metadata": {},
   "outputs": [],
   "source": [
    "# 테스트 데이터 로드\n",
    "test_data = pd.read_excel('test_data.xlsx')"
   ]
  },
  {
   "cell_type": "code",
   "execution_count": 4,
   "id": "3cbe00aa",
   "metadata": {},
   "outputs": [],
   "source": [
    "test_data = test_data.drop(['상품','RRC_CD','HAC_CD','지역코드','AD_NO','주거지','주소지','ADD_YN','SP등급','결과값(연체회차)'], axis=1)"
   ]
  },
  {
   "cell_type": "code",
   "execution_count": 5,
   "id": "de90f7c9",
   "metadata": {},
   "outputs": [],
   "source": [
    "# 숫자형 특성 선택\n",
    "X_test = test_data.select_dtypes(include=[np.number])"
   ]
  },
  {
   "cell_type": "code",
   "execution_count": 8,
   "id": "493e3c9c",
   "metadata": {
    "scrolled": true
   },
   "outputs": [],
   "source": [
    "# 훈련 데이터와 동일한 scaler를 사용하여 테스트 데이터를 스케일링합니다\n",
    "scaler = StandardScaler()\n",
    "scaler.fit(X_test)\n",
    "X_test = scaler.transform(X_test)"
   ]
  },
  {
   "cell_type": "code",
   "execution_count": 9,
   "id": "bf0580f4",
   "metadata": {},
   "outputs": [
    {
     "name": "stdout",
     "output_type": "stream",
     "text": [
      "1118/1118 [==============================] - 1s 746us/step\n"
     ]
    }
   ],
   "source": [
    "# 예측\n",
    "predictions = model.predict(X_test)"
   ]
  },
  {
   "cell_type": "code",
   "execution_count": 10,
   "id": "7c1342cf",
   "metadata": {},
   "outputs": [],
   "source": [
    "# CB등급 값을 소수점 아래로 내림\n",
    "predictions_rounded = np.floor(predictions).flatten()"
   ]
  },
  {
   "cell_type": "code",
   "execution_count": 11,
   "id": "5c991518",
   "metadata": {},
   "outputs": [],
   "source": [
    "# 결과 데이터프레임 생성\n",
    "result = pd.DataFrame({'Predicted_CB등급': predictions_rounded})"
   ]
  },
  {
   "cell_type": "code",
   "execution_count": 13,
   "id": "99e28dd4",
   "metadata": {},
   "outputs": [],
   "source": [
    "# 엑셀 파일로 저장\n",
    "result.to_excel('test_data_result_predictions.xlsx', index=False)"
   ]
  },
  {
   "cell_type": "code",
   "execution_count": 1,
   "id": "f01ecb1e",
   "metadata": {},
   "outputs": [],
   "source": [
    "import eli5\n",
    "from eli5.sklearn import PermutationImportance\n",
    "from tensorflow.keras.models import load_model"
   ]
  },
  {
   "cell_type": "code",
   "execution_count": 2,
   "id": "11ea3903",
   "metadata": {},
   "outputs": [],
   "source": [
    "model = load_model('cb_model.h5')"
   ]
  },
  {
   "cell_type": "code",
   "execution_count": null,
   "id": "9ff49966",
   "metadata": {},
   "outputs": [],
   "source": []
  }
 ],
 "metadata": {
  "kernelspec": {
   "display_name": "Python 3 (ipykernel)",
   "language": "python",
   "name": "python3"
  },
  "language_info": {
   "codemirror_mode": {
    "name": "ipython",
    "version": 3
   },
   "file_extension": ".py",
   "mimetype": "text/x-python",
   "name": "python",
   "nbconvert_exporter": "python",
   "pygments_lexer": "ipython3",
   "version": "3.9.13"
  }
 },
 "nbformat": 4,
 "nbformat_minor": 5
}
