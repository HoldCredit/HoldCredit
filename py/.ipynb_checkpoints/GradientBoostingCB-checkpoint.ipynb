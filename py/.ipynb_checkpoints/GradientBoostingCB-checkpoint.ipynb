{
 "cells": [
  {
   "cell_type": "code",
   "execution_count": 1,
   "id": "61cbe340",
   "metadata": {},
   "outputs": [],
   "source": [
    "import pandas as pd\n",
    "from sklearn.model_selection import train_test_split\n",
    "from sklearn.preprocessing import StandardScaler\n",
    "from sklearn.ensemble import GradientBoostingClassifier\n",
    "from sklearn.metrics import accuracy_score"
   ]
  },
  {
   "cell_type": "code",
   "execution_count": null,
   "id": "42d90621",
   "metadata": {},
   "outputs": [],
   "source": [
    "# 데이터 로드\n",
    "train_data = pd.read_excel('train_data.xlsx')\n",
    "train_data = train_data.drop(['SP','결과값(연체회차)'], axis=1)\n",
    "train_data = pd.get_dummies(train_data, columns=['AD_NO', 'LIV_ADD', 'RES_ADD', 'ADD_YN'])"
   ]
  },
  {
   "cell_type": "code",
   "execution_count": null,
   "id": "4b5cd48e",
   "metadata": {},
   "outputs": [],
   "source": [
    "# 입력 (X) / 출력 (Y) 변수 분리\n",
    "X = train_data.drop('CB', axis=1)\n",
    "y = train_data['CB']"
   ]
  },
  {
   "cell_type": "code",
   "execution_count": null,
   "id": "b3adccda",
   "metadata": {},
   "outputs": [],
   "source": [
    "# 학습 데이터와 검증 데이터 분리\n",
    "X_train, X_test, y_train, y_test = train_test_split(X, y, test_size=0.2, random_state=42)\n",
    "features = X.columns.tolist()"
   ]
  },
  {
   "cell_type": "code",
   "execution_count": null,
   "id": "a1cb6c81",
   "metadata": {},
   "outputs": [],
   "source": [
    "# 특성 스케일링\n",
    "scaler = StandardScaler()\n",
    "X_train = scaler.fit_transform(X_train)\n",
    "X_test = scaler.transform(X_test)"
   ]
  },
  {
   "cell_type": "code",
   "execution_count": null,
   "id": "69349e5b",
   "metadata": {},
   "outputs": [],
   "source": [
    "# GradientBoosting 모델 학습\n",
    "gb = GradientBoostingClassifier(n_estimators=100, random_state=42)\n",
    "gb.fit(X_train, y_train)"
   ]
  },
  {
   "cell_type": "code",
   "execution_count": null,
   "id": "85f2d613",
   "metadata": {},
   "outputs": [],
   "source": [
    "# 훈련,테스트 데이터에서의 예측\n",
    "train_pred = gb.predict(X_train)\n",
    "test_pred = gb.predict(X_test)"
   ]
  },
  {
   "cell_type": "code",
   "execution_count": null,
   "id": "8beb6f5e",
   "metadata": {},
   "outputs": [],
   "source": [
    "# 정확도 계산\n",
    "train_accuracy = accuracy_score(y_train, train_pred)\n",
    "test_accuracy = accuracy_score(y_test, test_pred)\n",
    "print(f'Train Accuracy: {train_accuracy:.4f}')\n",
    "print(f'Test Accuracy: {test_accuracy:.4f}')"
   ]
  },
  {
   "cell_type": "code",
   "execution_count": null,
   "id": "a17ebb52",
   "metadata": {},
   "outputs": [],
   "source": [
    "# 피처 중요도 확인\n",
    "gb_feature_importances = gb.feature_importances_"
   ]
  },
  {
   "cell_type": "code",
   "execution_count": null,
   "id": "02ce3aae",
   "metadata": {},
   "outputs": [],
   "source": [
    "# 피처 중요도를 데이터프레임으로 변환\n",
    "feature_importance_df = pd.DataFrame({'Feature': features, 'Importance': gb_feature_importances})"
   ]
  },
  {
   "cell_type": "code",
   "execution_count": null,
   "id": "22b8f58d",
   "metadata": {},
   "outputs": [],
   "source": [
    "# 중요도 순으로 정렬\n",
    "feature_importance_df = feature_importance_df.sort_values(by='Importance', ascending=False)"
   ]
  },
  {
   "cell_type": "code",
   "execution_count": null,
   "id": "403b665d",
   "metadata": {},
   "outputs": [],
   "source": [
    "# GBM 피처 중요도 확인 및 저장\n",
    "total_importance = sum(gb_feature_importances)\n",
    "gb_feature_importance_percentages = (gb_feature_importances / total_importance) * 100\n",
    "gb_feature_importance_df = pd.DataFrame({'Feature': features, 'Importance': gb_feature_importance_percentages})\n",
    "gb_feature_importance_df = gb_feature_importance_df.sort_values(by='Importance', ascending=False)\n",
    "gb_feature_importance_df.to_excel('CB_GradientBoosting_feature_importance.xlsx', index=False)"
   ]
  },
  {
   "cell_type": "markdown",
   "id": "3b55e16a",
   "metadata": {},
   "source": [
    "### Test_data.xlsx CB예측"
   ]
  },
  {
   "cell_type": "code",
   "execution_count": null,
   "id": "a9df8054",
   "metadata": {},
   "outputs": [],
   "source": [
    "# test.xlsx 파일 로드\n",
    "test_data = pd.read_excel('test_data.xlsx')"
   ]
  },
  {
   "cell_type": "code",
   "execution_count": null,
   "id": "550b5eca",
   "metadata": {},
   "outputs": [],
   "source": [
    "# test_data에 동일한 전처리 수행\n",
    "test_data = test_data.drop(['SP','결과값(연체회차)'], axis=1)\n",
    "test_data = pd.get_dummies(test_data, columns=['AD_NO', 'LIV_ADD', 'RES_ADD', 'ADD_YN'])"
   ]
  },
  {
   "cell_type": "code",
   "execution_count": null,
   "id": "a51ffef6",
   "metadata": {},
   "outputs": [],
   "source": [
    "# 훈련 데이터와 동일한 특성을 가지도록 조정\n",
    "missing_cols = set(X.columns) - set(test_data.columns)\n",
    "for c in missing_cols:\n",
    "    test_data[c] = 0\n",
    "test_data = test_data[X.columns]"
   ]
  },
  {
   "cell_type": "code",
   "execution_count": null,
   "id": "64a53cf1",
   "metadata": {},
   "outputs": [],
   "source": [
    "# 스케일링\n",
    "test_data_scaled = scaler.transform(test_data)"
   ]
  },
  {
   "cell_type": "code",
   "execution_count": null,
   "id": "c7bd3c46",
   "metadata": {},
   "outputs": [],
   "source": [
    "# 훈련된 모델을 사용하여 예측 수행\n",
    "test_pred = gb.predict(test_data_scaled)"
   ]
  },
  {
   "cell_type": "code",
   "execution_count": null,
   "id": "5cabd20f",
   "metadata": {},
   "outputs": [],
   "source": [
    "# 예측 결과를 데이터프레임으로 변환\n",
    "test_pred_df = pd.DataFrame(test_pred, columns=['CB 예측'])"
   ]
  },
  {
   "cell_type": "code",
   "execution_count": null,
   "id": "da401a6f",
   "metadata": {},
   "outputs": [],
   "source": [
    "# 결과를 엑셀 파일로 저장\n",
    "test_pred_df.to_excel('test_GradientBoosting_CB.xlsx', index=False)"
   ]
  },
  {
   "cell_type": "code",
   "execution_count": null,
   "id": "fb00db43",
   "metadata": {},
   "outputs": [],
   "source": []
  }
 ],
 "metadata": {
  "kernelspec": {
   "display_name": "Python 3 (ipykernel)",
   "language": "python",
   "name": "python3"
  },
  "language_info": {
   "codemirror_mode": {
    "name": "ipython",
    "version": 3
   },
   "file_extension": ".py",
   "mimetype": "text/x-python",
   "name": "python",
   "nbconvert_exporter": "python",
   "pygments_lexer": "ipython3",
   "version": "3.7.16"
  }
 },
 "nbformat": 4,
 "nbformat_minor": 5
}
