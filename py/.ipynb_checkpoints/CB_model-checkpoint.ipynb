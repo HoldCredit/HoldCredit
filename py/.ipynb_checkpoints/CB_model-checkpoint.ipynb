{
 "cells": [
  {
   "cell_type": "code",
   "execution_count": 1,
   "id": "69821733",
   "metadata": {},
   "outputs": [],
   "source": [
    "import pandas as pd\n",
    "from sklearn.model_selection import train_test_split\n",
    "from sklearn.preprocessing import StandardScaler\n",
    "import tensorflow as tf\n",
    "import numpy as np\n",
    "import pickle"
   ]
  },
  {
   "cell_type": "code",
   "execution_count": null,
   "id": "c758d9c7",
   "metadata": {},
   "outputs": [],
   "source": [
    "# 데이터 로드\n",
    "train_data = pd.read_excel('train_data.xlsx')\n",
    "train_data = train_data.drop(['상품','RRC_CD','HAC_CD','지역코드','AD_NO','주거지','주소지','ADD_YN','SP등급','결과값(연체회차)'], axis=1)"
   ]
  },
  {
   "cell_type": "code",
   "execution_count": null,
   "id": "39e243fb",
   "metadata": {},
   "outputs": [],
   "source": [
    "# 학습에 사용할 특성과 레이블 분리\n",
    "X = train_data.select_dtypes(include=[np.number])\n",
    "y = train_data['CB등급']"
   ]
  },
  {
   "cell_type": "code",
   "execution_count": null,
   "id": "df86b77b",
   "metadata": {},
   "outputs": [],
   "source": [
    "# 데이터 전처리\n",
    "scaler = StandardScaler()\n",
    "X = scaler.fit_transform(X)"
   ]
  },
  {
   "cell_type": "code",
   "execution_count": null,
   "id": "feb18a07",
   "metadata": {},
   "outputs": [],
   "source": [
    "# 학습 데이터와 검증 데이터 분리\n",
    "X_train, X_val, y_train, y_val = train_test_split(X, y, test_size=0.2, random_state=42)"
   ]
  },
  {
   "cell_type": "code",
   "execution_count": null,
   "id": "79d0a94c",
   "metadata": {},
   "outputs": [],
   "source": [
    "# 전처리 저장\n",
    "with open('train_data_scaler.pkl', 'wb') as f:\n",
    "    pickle.dump(scaler, f)"
   ]
  },
  {
   "cell_type": "code",
   "execution_count": null,
   "id": "0e06fb49",
   "metadata": {},
   "outputs": [],
   "source": [
    "# 모델 생성\n",
    "model = tf.keras.models.Sequential([\n",
    "    tf.keras.layers.Dense(128, activation='relu', input_shape=(X_train.shape[1],)),\n",
    "    tf.keras.layers.Dropout(0.2),\n",
    "    tf.keras.layers.Dense(64, activation='relu'),\n",
    "    tf.keras.layers.Dropout(0.2),\n",
    "    tf.keras.layers.Dense(1)\n",
    "])"
   ]
  },
  {
   "cell_type": "code",
   "execution_count": null,
   "id": "86288c86",
   "metadata": {},
   "outputs": [],
   "source": [
    "# 모델 컴파일\n",
    "model.compile(optimizer='adam', loss='mean_squared_error')"
   ]
  },
  {
   "cell_type": "code",
   "execution_count": null,
   "id": "b29fdfb7",
   "metadata": {},
   "outputs": [],
   "source": [
    "# 모델 학습\n",
    "model.fit(X_train, y_train, epochs=10, validation_data=(X_val, y_val))"
   ]
  },
  {
   "cell_type": "code",
   "execution_count": 17,
   "id": "d0258d29",
   "metadata": {},
   "outputs": [],
   "source": [
    "# 모델 저장\n",
    "model.save('CB_model.h5')"
   ]
  },
  {
   "cell_type": "markdown",
   "id": "df29821e",
   "metadata": {},
   "source": [
    "### feature importance 추출"
   ]
  },
  {
   "cell_type": "code",
   "execution_count": null,
   "id": "523d2db7",
   "metadata": {},
   "outputs": [
    {
     "name": "stderr",
     "output_type": "stream",
     "text": [
      "C:\\Users\\Public\\Documents\\ESTsoft\\CreatorTemp\\ipykernel_16064\\539200618.py:16: DeprecationWarning: KerasRegressor is deprecated, use Sci-Keras (https://github.com/adriangb/scikeras) instead. See https://www.adriangb.com/scikeras/stable/migration.html for help migrating.\n",
      "  keras_reg = KerasRegressor(build_fn=create_model, epochs=10, batch_size=10, verbose=0)\n"
     ]
    }
   ],
   "source": [
    "from sklearn.inspection import permutation_importance\n",
    "from tensorflow.keras.wrappers.scikit_learn import KerasRegressor\n",
    "\n",
    "def create_model():\n",
    "    model = tf.keras.models.Sequential([\n",
    "        tf.keras.layers.Dense(128, activation='relu', input_shape=(X_train.shape[1],)),\n",
    "        tf.keras.layers.Dropout(0.2),\n",
    "        tf.keras.layers.Dense(64, activation='relu'),\n",
    "        tf.keras.layers.Dropout(0.2),\n",
    "        tf.keras.layers.Dense(1)\n",
    "    ])\n",
    "    model.compile(optimizer='adam', loss='mean_squared_error')\n",
    "    return model\n",
    "\n",
    "# 모델을 scikit-learn에서 사용할 수 있도록 감싸기\n",
    "keras_reg = KerasRegressor(build_fn=create_model, epochs=10, batch_size=10, verbose=0)\n",
    "\n",
    "# 학습된 모델의 가중치를 감싼 모델에 할당\n",
    "keras_reg.model = model\n",
    "\n",
    "# PFI 계산\n",
    "result = permutation_importance(keras_reg, X_val, y_val, n_repeats=10, random_state=42)\n",
    "\n",
    "# 특성 이름과 중요도를 DataFrame으로 만들기\n",
    "feature_importances = pd.DataFrame(\n",
    "    {'importance_mean': result.importances_mean, 'importance_std': result.importances_std},\n",
    "    index=train_data.select_dtypes(include=[np.number]).columns) # Make sure to use the correct feature names\n",
    "\n",
    "# 중요도에 따라 내림차순 정렬\n",
    "feature_importances = feature_importances.sort_values(by='importance_mean', ascending=False)\n",
    "\n",
    "# 중요도를 엑셀 파일로 저장\n",
    "feature_importances.to_excel('feature_importances.xlsx')\n"
   ]
  },
  {
   "cell_type": "code",
   "execution_count": null,
   "id": "346da14d",
   "metadata": {},
   "outputs": [],
   "source": [
    "import shap\n",
    "\n",
    "# 모델의 예측 함수를 설명하기 위해 SHAP Explainer 객체를 생성\n",
    "explainer = shap.DeepExplainer(model, X_train)\n",
    "\n",
    "# 특성 중요도를 계산\n",
    "shap_values = explainer.shap_values(X_val)\n",
    "\n",
    "# 중요도를 DataFrame으로 변환\n",
    "feature_importances = pd.DataFrame(shap_values[0], columns=train_data.columns)\n",
    "\n",
    "# 각 특성의 평균 절대 SHAP 값을 계산\n",
    "feature_importances = feature_importances.abs().mean().sort_values(ascending=False)\n",
    "\n",
    "# 중요도를 엑셀 파일로 저장\n",
    "feature_importances.to_excel('feature_importances.xlsx')\n"
   ]
  },
  {
   "cell_type": "code",
   "execution_count": null,
   "id": "c7b8ab62",
   "metadata": {},
   "outputs": [],
   "source": []
  },
  {
   "cell_type": "code",
   "execution_count": null,
   "id": "afeeabb6",
   "metadata": {},
   "outputs": [],
   "source": []
  },
  {
   "cell_type": "code",
   "execution_count": null,
   "id": "998520f3",
   "metadata": {},
   "outputs": [],
   "source": []
  }
 ],
 "metadata": {
  "kernelspec": {
   "display_name": "Python 3 (ipykernel)",
   "language": "python",
   "name": "python3"
  },
  "language_info": {
   "codemirror_mode": {
    "name": "ipython",
    "version": 3
   },
   "file_extension": ".py",
   "mimetype": "text/x-python",
   "name": "python",
   "nbconvert_exporter": "python",
   "pygments_lexer": "ipython3",
   "version": "3.9.13"
  }
 },
 "nbformat": 4,
 "nbformat_minor": 5
}
