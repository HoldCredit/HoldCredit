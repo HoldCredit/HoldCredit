{
 "cells": [
  {
   "cell_type": "code",
   "execution_count": 1,
   "id": "9a9987b3",
   "metadata": {},
   "outputs": [],
   "source": [
    "import pandas as pd\n",
    "from sklearn.model_selection import train_test_split\n",
    "from sklearn.preprocessing import StandardScaler\n",
    "from sklearn.ensemble import RandomForestClassifier\n",
    "from sklearn.metrics import accuracy_score"
   ]
  },
  {
   "cell_type": "code",
   "execution_count": 2,
   "id": "34ff63b8",
   "metadata": {},
   "outputs": [],
   "source": [
    "# 데이터 로드\n",
    "train_data = pd.read_excel('train_data.xlsx')\n",
    "train_data = train_data.drop(['SP'], axis=1)\n",
    "train_data = pd.get_dummies(train_data, columns=['AD_NO', 'LIV_ADD', 'RES_ADD', 'ADD_YN'])"
   ]
  },
  {
   "cell_type": "code",
   "execution_count": 3,
   "id": "4223f6de",
   "metadata": {},
   "outputs": [],
   "source": [
    "# 입력 (X) / 출력 (Y) 변수 분리\n",
    "X = train_data.drop('결과값(연체회차)', axis=1)\n",
    "y = train_data['결과값(연체회차)']"
   ]
  },
  {
   "cell_type": "code",
   "execution_count": 13,
   "id": "90b4c9a3",
   "metadata": {},
   "outputs": [],
   "source": [
    "# 학습 데이터와 검증 데이터 분리\n",
    "X_train, X_test, y_train, y_test = train_test_split(X, y, test_size=0.2, random_state=42)\n",
    "\n",
    "features = X.columns.tolist()"
   ]
  },
  {
   "cell_type": "code",
   "execution_count": 5,
   "id": "d3b33b8b",
   "metadata": {},
   "outputs": [],
   "source": [
    "# 특성 스케일링\n",
    "scaler = StandardScaler()\n",
    "X_train = scaler.fit_transform(X_train)\n",
    "X_test = scaler.transform(X_test)"
   ]
  },
  {
   "cell_type": "code",
   "execution_count": 6,
   "id": "dcb50290",
   "metadata": {},
   "outputs": [
    {
     "data": {
      "text/plain": [
       "RandomForestClassifier(random_state=42)"
      ]
     },
     "execution_count": 6,
     "metadata": {},
     "output_type": "execute_result"
    }
   ],
   "source": [
    "# 랜덤포레스트 학습\n",
    "rf = RandomForestClassifier(n_estimators=100, random_state=42)\n",
    "rf.fit(X_train, y_train)"
   ]
  },
  {
   "cell_type": "code",
   "execution_count": 7,
   "id": "3f11c5eb",
   "metadata": {},
   "outputs": [],
   "source": [
    "# 랜덤포레스트 예측\n",
    "rf_train_pred = rf.predict(X_train)\n",
    "rf_test_pred = rf.predict(X_test)"
   ]
  },
  {
   "cell_type": "code",
   "execution_count": 8,
   "id": "47104087",
   "metadata": {},
   "outputs": [
    {
     "name": "stdout",
     "output_type": "stream",
     "text": [
      "Random Forest Train Accuracy: 0.9790\n",
      "Random Forest Test Accuracy: 0.9773\n"
     ]
    }
   ],
   "source": [
    "# 랜덤포레스트 정확도 계산\n",
    "rf_train_accuracy = accuracy_score(y_train, rf_train_pred)\n",
    "rf_test_accuracy = accuracy_score(y_test, rf_test_pred)\n",
    "print(f'Random Forest Train Accuracy: {rf_train_accuracy:.4f}')\n",
    "print(f'Random Forest Test Accuracy: {rf_test_accuracy:.4f}')"
   ]
  },
  {
   "cell_type": "code",
   "execution_count": 9,
   "id": "c6b253bf",
   "metadata": {},
   "outputs": [],
   "source": [
    "# 피처 중요도 확인\n",
    "rf_feature_importances = rf.feature_importances_"
   ]
  },
  {
   "cell_type": "code",
   "execution_count": 10,
   "id": "78cc8ff9",
   "metadata": {},
   "outputs": [],
   "source": [
    "# 피처 중요도를 데이터프레임으로 변환\n",
    "feature_importance_df = pd.DataFrame({'Feature': features, 'Importance': rf_feature_importances})"
   ]
  },
  {
   "cell_type": "code",
   "execution_count": 11,
   "id": "6f108a69",
   "metadata": {},
   "outputs": [],
   "source": [
    "# 중요도 순으로 정렬\n",
    "feature_importance_df = feature_importance_df.sort_values(by='Importance', ascending=False)"
   ]
  },
  {
   "cell_type": "code",
   "execution_count": 12,
   "id": "fb229fc9",
   "metadata": {},
   "outputs": [],
   "source": [
    "# 랜덤포레스트 피처 중요도 확인 및 저장\n",
    "total_importance = sum(rf_feature_importances)\n",
    "rf_feature_importance_percentages = (rf_feature_importances / total_importance) * 100\n",
    "rf_feature_importance_df = pd.DataFrame({'Feature': features, 'Importance': rf_feature_importance_percentages})\n",
    "rf_feature_importance_df = rf_feature_importance_df.sort_values(by='Importance', ascending=False)\n",
    "rf_feature_importance_df.to_excel('Overdue_RandomForest_feature_importance.xlsx', index=False)"
   ]
  },
  {
   "cell_type": "markdown",
   "id": "fa77cb2e",
   "metadata": {},
   "source": [
    "### Test_data.xlsx CB예측"
   ]
  },
  {
   "cell_type": "code",
   "execution_count": 13,
   "id": "fba45e82",
   "metadata": {},
   "outputs": [],
   "source": [
    "# test.xlsx 파일 로드\n",
    "test_data = pd.read_excel('test_data.xlsx')"
   ]
  },
  {
   "cell_type": "code",
   "execution_count": 14,
   "id": "ff599fcb",
   "metadata": {},
   "outputs": [],
   "source": [
    "# test_data에 동일한 전처리 수행\n",
    "test_data = pd.get_dummies(test_data, columns=['AD_NO', 'LIV_ADD', 'RES_ADD', 'ADD_YN'])"
   ]
  },
  {
   "cell_type": "code",
   "execution_count": 15,
   "id": "91ff4cab",
   "metadata": {},
   "outputs": [],
   "source": [
    "# 훈련 데이터와 동일한 특성을 가지도록 조정\n",
    "missing_cols = set(X.columns) - set(test_data.columns)\n",
    "for c in missing_cols:\n",
    "    test_data[c] = 0\n",
    "test_data = test_data[X.columns]"
   ]
  },
  {
   "cell_type": "code",
   "execution_count": 16,
   "id": "745b0b83",
   "metadata": {},
   "outputs": [],
   "source": [
    "# 스케일링\n",
    "test_data_scaled = scaler.transform(test_data)"
   ]
  },
  {
   "cell_type": "code",
   "execution_count": 17,
   "id": "c2ca065c",
   "metadata": {},
   "outputs": [],
   "source": [
    "# 훈련된 모델을 사용하여 예측 수행\n",
    "test_pred = rf.predict(test_data_scaled)"
   ]
  },
  {
   "cell_type": "code",
   "execution_count": 18,
   "id": "6eea3eda",
   "metadata": {},
   "outputs": [],
   "source": [
    "# 예측 결과를 데이터프레임으로 변환\n",
    "test_pred_df = pd.DataFrame(test_pred, columns=['연체 예측'])"
   ]
  },
  {
   "cell_type": "code",
   "execution_count": 19,
   "id": "1fe1a239",
   "metadata": {},
   "outputs": [],
   "source": [
    "# 결과를 엑셀 파일로 저장\n",
    "test_pred_df.to_excel('test_RandomForest_Overdue.xlsx', index=False)"
   ]
  },
  {
   "cell_type": "code",
   "execution_count": 15,
   "id": "5a536999",
   "metadata": {},
   "outputs": [
    {
     "data": {
      "text/plain": [
       "['Overdue_RandomForest_scaler.pkl']"
      ]
     },
     "execution_count": 15,
     "metadata": {},
     "output_type": "execute_result"
    }
   ],
   "source": [
    "import joblib\n",
    "joblib.dump(rf, 'Overdue_RandomForest_model.pkl')\n",
    "joblib.dump(scaler, 'Overdue_RandomForest_scaler.pkl')"
   ]
  },
  {
   "cell_type": "code",
   "execution_count": 16,
   "id": "db166a9a",
   "metadata": {},
   "outputs": [],
   "source": [
    "cb_rf = joblib.load('CB_RandomForest_model.pkl')\n",
    "cb_scaler = joblib.load('CB_RandomForest_scaler.pkl')"
   ]
  },
  {
   "cell_type": "code",
   "execution_count": null,
   "id": "0c2b01ff",
   "metadata": {},
   "outputs": [],
   "source": []
  },
  {
   "cell_type": "code",
   "execution_count": null,
   "id": "e66b23ba",
   "metadata": {},
   "outputs": [],
   "source": []
  },
  {
   "cell_type": "code",
   "execution_count": null,
   "id": "1c627e33",
   "metadata": {},
   "outputs": [],
   "source": []
  },
  {
   "cell_type": "code",
   "execution_count": null,
   "id": "3c40b0a0",
   "metadata": {
    "collapsed": true
   },
   "outputs": [],
   "source": []
  }
 ],
 "metadata": {
  "kernelspec": {
   "display_name": "Python 3 (ipykernel)",
   "language": "python",
   "name": "python3"
  },
  "language_info": {
   "codemirror_mode": {
    "name": "ipython",
    "version": 3
   },
   "file_extension": ".py",
   "mimetype": "text/x-python",
   "name": "python",
   "nbconvert_exporter": "python",
   "pygments_lexer": "ipython3",
   "version": "3.9.13"
  }
 },
 "nbformat": 4,
 "nbformat_minor": 5
}
