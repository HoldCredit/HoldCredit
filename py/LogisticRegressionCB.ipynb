{
 "cells": [
  {
   "cell_type": "code",
   "execution_count": 1,
   "id": "6835745f",
   "metadata": {},
   "outputs": [],
   "source": [
    "import pandas as pd\n",
    "from sklearn.model_selection import train_test_split\n",
    "from sklearn.preprocessing import StandardScaler\n",
    "from sklearn.linear_model import LogisticRegression\n",
    "from sklearn.metrics import accuracy_score"
   ]
  },
  {
   "cell_type": "code",
   "execution_count": 2,
   "id": "87970c88",
   "metadata": {},
   "outputs": [],
   "source": [
    "# 데이터 로드\n",
    "train_data = pd.read_excel('train_data.xlsx')\n",
    "train_data = train_data.drop(['SP','결과값(연체회차)'], axis=1)\n",
    "train_data = pd.get_dummies(train_data, columns=['AD_NO', 'LIV_ADD', 'RES_ADD', 'ADD_YN'])"
   ]
  },
  {
   "cell_type": "code",
   "execution_count": 3,
   "id": "17b7df03",
   "metadata": {},
   "outputs": [],
   "source": [
    "# 입력 (X) / 출력 (Y) 변수 분리\n",
    "X = train_data.drop('CB', axis=1)\n",
    "y = train_data['CB']"
   ]
  },
  {
   "cell_type": "code",
   "execution_count": 4,
   "id": "72a16cf8",
   "metadata": {},
   "outputs": [],
   "source": [
    "# 학습 데이터와 검증 데이터 분리\n",
    "X_train, X_test, y_train, y_test = train_test_split(X, y, test_size=0.2, random_state=42)\n",
    "features = X.columns.tolist()"
   ]
  },
  {
   "cell_type": "code",
   "execution_count": 5,
   "id": "6792b5de",
   "metadata": {},
   "outputs": [],
   "source": [
    "# 특성 스케일링\n",
    "scaler = StandardScaler()\n",
    "X_train = scaler.fit_transform(X_train)\n",
    "X_test = scaler.transform(X_test)"
   ]
  },
  {
   "cell_type": "markdown",
   "id": "5d4afdc8",
   "metadata": {},
   "source": [
    "### Logistic Regression"
   ]
  },
  {
   "cell_type": "code",
   "execution_count": 6,
   "id": "bcfe476b",
   "metadata": {},
   "outputs": [
    {
     "name": "stderr",
     "output_type": "stream",
     "text": [
      "C:\\Users\\user\\anaconda3\\envs\\newenv\\lib\\site-packages\\sklearn\\linear_model\\_logistic.py:818: ConvergenceWarning: lbfgs failed to converge (status=1):\n",
      "STOP: TOTAL NO. of ITERATIONS REACHED LIMIT.\n",
      "\n",
      "Increase the number of iterations (max_iter) or scale the data as shown in:\n",
      "    https://scikit-learn.org/stable/modules/preprocessing.html\n",
      "Please also refer to the documentation for alternative solver options:\n",
      "    https://scikit-learn.org/stable/modules/linear_model.html#logistic-regression\n",
      "  extra_warning_msg=_LOGISTIC_SOLVER_CONVERGENCE_MSG,\n"
     ]
    },
    {
     "data": {
      "text/plain": [
       "LogisticRegression(random_state=42)"
      ]
     },
     "execution_count": 6,
     "metadata": {},
     "output_type": "execute_result"
    }
   ],
   "source": [
    "# LogisticRegression 모델 학습\n",
    "lr = LogisticRegression(random_state=42)\n",
    "lr.fit(X_train, y_train)"
   ]
  },
  {
   "cell_type": "code",
   "execution_count": 7,
   "id": "7e4faa03",
   "metadata": {},
   "outputs": [],
   "source": [
    "# 훈련,테스트 데이터에서의 예측\n",
    "train_pred = lr.predict(X_train)\n",
    "test_pred = lr.predict(X_test)"
   ]
  },
  {
   "cell_type": "code",
   "execution_count": 8,
   "id": "4c08c96e",
   "metadata": {},
   "outputs": [
    {
     "name": "stdout",
     "output_type": "stream",
     "text": [
      "Train Accuracy: 0.2879\n",
      "Test Accuracy: 0.2954\n"
     ]
    }
   ],
   "source": [
    "# 정확도 계산\n",
    "train_accuracy = accuracy_score(y_train, train_pred)\n",
    "test_accuracy = accuracy_score(y_test, test_pred)\n",
    "print(f'Train Accuracy: {train_accuracy:.4f}')\n",
    "print(f'Test Accuracy: {test_accuracy:.4f}')"
   ]
  },
  {
   "cell_type": "code",
   "execution_count": 9,
   "id": "bc8d4c52",
   "metadata": {},
   "outputs": [],
   "source": [
    "# 피처 중요도 확인\n",
    "lr_coef = lr.coef_[0]"
   ]
  },
  {
   "cell_type": "code",
   "execution_count": 10,
   "id": "d34367a8",
   "metadata": {},
   "outputs": [],
   "source": [
    "# 피처 중요도를 데이터프레임으로 변환\n",
    "feature_importance_df = pd.DataFrame({'Feature': features, 'Importance': lr_coef})"
   ]
  },
  {
   "cell_type": "code",
   "execution_count": 11,
   "id": "c0df404d",
   "metadata": {},
   "outputs": [],
   "source": [
    "# 중요도 순으로 정렬\n",
    "feature_importance_df = feature_importance_df.sort_values(by='Importance', ascending=False)"
   ]
  },
  {
   "cell_type": "code",
   "execution_count": 12,
   "id": "7e6d4338",
   "metadata": {},
   "outputs": [],
   "source": [
    "# 로지스틱 회귀 피처 중요도 확인 및 저장\n",
    "total_importance = sum(abs(lr_coef))\n",
    "lr_feature_importance_percentages = (abs(lr_coef) / total_importance) * 100\n",
    "lr_feature_importance_df = pd.DataFrame({'Feature': features, 'Importance': lr_feature_importance_percentages})\n",
    "lr_feature_importance_df = lr_feature_importance_df.sort_values(by='Importance', ascending=False)\n",
    "lr_feature_importance_df.to_excel('CB_LogisticRegression_feature_importance.xlsx', index=False)"
   ]
  },
  {
   "cell_type": "markdown",
   "id": "51e83831",
   "metadata": {},
   "source": [
    "### Test_data.xlsx CB예측"
   ]
  },
  {
   "cell_type": "code",
   "execution_count": 13,
   "id": "82e7a0bd",
   "metadata": {},
   "outputs": [],
   "source": [
    "# test.xlsx 파일 로드\n",
    "test_data = pd.read_excel('test_data.xlsx')"
   ]
  },
  {
   "cell_type": "code",
   "execution_count": 14,
   "id": "3a1972c7",
   "metadata": {},
   "outputs": [],
   "source": [
    "# test_data에 동일한 전처리 수행\n",
    "test_data = test_data.drop(['SP','결과값(연체회차)'], axis=1)\n",
    "test_data = pd.get_dummies(test_data, columns=['AD_NO', 'LIV_ADD', 'RES_ADD', 'ADD_YN'])"
   ]
  },
  {
   "cell_type": "code",
   "execution_count": 15,
   "id": "3a46e93b",
   "metadata": {},
   "outputs": [],
   "source": [
    "# 훈련 데이터와 동일한 특성을 가지도록 조정\n",
    "missing_cols = set(X.columns) - set(test_data.columns)\n",
    "for c in missing_cols:\n",
    "    test_data[c] = 0\n",
    "test_data = test_data[X.columns]"
   ]
  },
  {
   "cell_type": "code",
   "execution_count": 16,
   "id": "17f438ac",
   "metadata": {},
   "outputs": [],
   "source": [
    "# 스케일링\n",
    "test_data_scaled = scaler.transform(test_data)"
   ]
  },
  {
   "cell_type": "code",
   "execution_count": 17,
   "id": "7bb6ca2d",
   "metadata": {},
   "outputs": [],
   "source": [
    "# 훈련된 모델을 사용하여 예측 수행\n",
    "test_pred = lr.predict(test_data_scaled)"
   ]
  },
  {
   "cell_type": "code",
   "execution_count": 18,
   "id": "8e847b12",
   "metadata": {},
   "outputs": [],
   "source": [
    "# 예측 결과를 데이터프레임으로 변환\n",
    "test_pred_df = pd.DataFrame(test_pred, columns=['CB 예측'])"
   ]
  },
  {
   "cell_type": "code",
   "execution_count": 19,
   "id": "1fc9b0e7",
   "metadata": {},
   "outputs": [],
   "source": [
    "# 결과를 엑셀 파일로 저장\n",
    "test_pred_df.to_excel('test_LogisticRegression_CB.xlsx', index=False)"
   ]
  },
  {
   "cell_type": "code",
   "execution_count": 20,
   "id": "197b9ad5",
   "metadata": {},
   "outputs": [
    {
     "data": {
      "text/plain": [
       "['CB_LogisticRegression_scaler.pkl']"
      ]
     },
     "execution_count": 20,
     "metadata": {},
     "output_type": "execute_result"
    }
   ],
   "source": [
    "import joblib\n",
    "joblib.dump(lr, 'CB_LogisticRegression_model.pkl')\n",
    "joblib.dump(scaler, 'CB_LogisticRegression_scaler.pkl')"
   ]
  },
  {
   "cell_type": "code",
   "execution_count": null,
   "id": "d7965d7b",
   "metadata": {},
   "outputs": [],
   "source": []
  }
 ],
 "metadata": {
  "kernelspec": {
   "display_name": "Python 3 (ipykernel)",
   "language": "python",
   "name": "python3"
  },
  "language_info": {
   "codemirror_mode": {
    "name": "ipython",
    "version": 3
   },
   "file_extension": ".py",
   "mimetype": "text/x-python",
   "name": "python",
   "nbconvert_exporter": "python",
   "pygments_lexer": "ipython3",
   "version": "3.7.16"
  }
 },
 "nbformat": 4,
 "nbformat_minor": 5
}
